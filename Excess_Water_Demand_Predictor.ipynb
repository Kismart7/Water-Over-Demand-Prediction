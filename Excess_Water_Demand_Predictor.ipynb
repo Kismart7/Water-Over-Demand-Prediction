{
 "cells": [
  {
   "cell_type": "code",
   "execution_count": 1,
   "metadata": {},
   "outputs": [],
   "source": [
    "# Preprocessing data for use in developing a model to predict water usage above the daily allowed rates\n",
    "# for given neighbourhoods.\n",
    "# Note accompanying data (and their consequent representation in this process) were changed (agreement terms)\n",
    "# The code was also changed, only ensuring appropriate 'Key areas' are maintained to allow the executions of\n",
    "# which showcase my data science skills using python. \n",
    "# The whole process is re-usable for other cases and data, with necessary twitch of some parameters in the code, "
   ]
  },
  {
   "cell_type": "markdown",
   "metadata": {},
   "source": [
    "# Importing necessary modules"
   ]
  },
  {
   "cell_type": "code",
   "execution_count": 2,
   "metadata": {},
   "outputs": [],
   "source": [
    "import pandas as pd\n",
    "import numpy as np\n",
    "from sklearn.model_selection import train_test_split\n",
    "from sklearn.base import BaseEstimator, TransformerMixin\n",
    "from sklearn.preprocessing import StandardScaler\n",
    "from sklearn.linear_model import LogisticRegression\n",
    "#from sklearn import metrics"
   ]
  },
  {
   "cell_type": "code",
   "execution_count": 3,
   "metadata": {},
   "outputs": [],
   "source": [
    "raw_csv_data = pd.read_csv('Water_Usage_Data.csv') ## loading raw data"
   ]
  },
  {
   "cell_type": "code",
   "execution_count": 4,
   "metadata": {},
   "outputs": [
    {
     "data": {
      "text/html": [
       "<div>\n",
       "<style scoped>\n",
       "    .dataframe tbody tr th:only-of-type {\n",
       "        vertical-align: middle;\n",
       "    }\n",
       "\n",
       "    .dataframe tbody tr th {\n",
       "        vertical-align: top;\n",
       "    }\n",
       "\n",
       "    .dataframe thead th {\n",
       "        text-align: right;\n",
       "    }\n",
       "</style>\n",
       "<table border=\"1\" class=\"dataframe\">\n",
       "  <thead>\n",
       "    <tr style=\"text-align: right;\">\n",
       "      <th></th>\n",
       "      <th>ID</th>\n",
       "      <th>Date</th>\n",
       "      <th>Zone</th>\n",
       "      <th>Lat</th>\n",
       "      <th>Long</th>\n",
       "      <th>Meter Number</th>\n",
       "      <th>Reason for Over Abstraction</th>\n",
       "      <th>HouseHolds</th>\n",
       "      <th>Type of Housing</th>\n",
       "      <th>Main Pipe Length</th>\n",
       "      <th>Daily Abstraction Avg</th>\n",
       "      <th>Water Kiosks</th>\n",
       "      <th>Car Wash and Hotels</th>\n",
       "      <th>Schools</th>\n",
       "      <th>Churches</th>\n",
       "      <th>Farming</th>\n",
       "      <th>Over Abstraction</th>\n",
       "    </tr>\n",
       "  </thead>\n",
       "  <tbody>\n",
       "    <tr>\n",
       "      <th>0</th>\n",
       "      <td>6</td>\n",
       "      <td>7/7/2015</td>\n",
       "      <td>Lower Kayole</td>\n",
       "      <td>0.745297</td>\n",
       "      <td>36.461339</td>\n",
       "      <td>WT11-6''-06-12840</td>\n",
       "      <td>Other_Acts</td>\n",
       "      <td>179</td>\n",
       "      <td>single units rentals</td>\n",
       "      <td>1604</td>\n",
       "      <td>134.25</td>\n",
       "      <td>2</td>\n",
       "      <td>0</td>\n",
       "      <td>1</td>\n",
       "      <td>2</td>\n",
       "      <td>1</td>\n",
       "      <td>4</td>\n",
       "    </tr>\n",
       "    <tr>\n",
       "      <th>1</th>\n",
       "      <td>1</td>\n",
       "      <td>15/07/2015</td>\n",
       "      <td>park view</td>\n",
       "      <td>0.744511</td>\n",
       "      <td>36.462356</td>\n",
       "      <td>WT-4''-96-4997</td>\n",
       "      <td>Mt_Pb</td>\n",
       "      <td>69</td>\n",
       "      <td>single family units</td>\n",
       "      <td>3480</td>\n",
       "      <td>51.75</td>\n",
       "      <td>2</td>\n",
       "      <td>1</td>\n",
       "      <td>0</td>\n",
       "      <td>2</td>\n",
       "      <td>3</td>\n",
       "      <td>2</td>\n",
       "    </tr>\n",
       "    <tr>\n",
       "      <th>2</th>\n",
       "      <td>4</td>\n",
       "      <td>16/07/2015</td>\n",
       "      <td>Upper Kayole</td>\n",
       "      <td>0.748353</td>\n",
       "      <td>36.466414</td>\n",
       "      <td>WT11-06''-12842</td>\n",
       "      <td>LK_2</td>\n",
       "      <td>169</td>\n",
       "      <td>mixed rental storied (2 bedroomed plus) and fa...</td>\n",
       "      <td>1750</td>\n",
       "      <td>126.75</td>\n",
       "      <td>0</td>\n",
       "      <td>0</td>\n",
       "      <td>0</td>\n",
       "      <td>0</td>\n",
       "      <td>3</td>\n",
       "      <td>4</td>\n",
       "    </tr>\n",
       "    <tr>\n",
       "      <th>3</th>\n",
       "      <td>6</td>\n",
       "      <td>23/07/2015</td>\n",
       "      <td>Lower Kayole</td>\n",
       "      <td>0.745297</td>\n",
       "      <td>36.461339</td>\n",
       "      <td>WT11-6''-06-12840</td>\n",
       "      <td>Mt_Pb</td>\n",
       "      <td>179</td>\n",
       "      <td>single units rentals</td>\n",
       "      <td>1604</td>\n",
       "      <td>134.25</td>\n",
       "      <td>2</td>\n",
       "      <td>0</td>\n",
       "      <td>1</td>\n",
       "      <td>2</td>\n",
       "      <td>1</td>\n",
       "      <td>2</td>\n",
       "    </tr>\n",
       "    <tr>\n",
       "      <th>4</th>\n",
       "      <td>1</td>\n",
       "      <td>10/7/2015</td>\n",
       "      <td>park view</td>\n",
       "      <td>0.744511</td>\n",
       "      <td>36.462356</td>\n",
       "      <td>WT-4''-96-4997</td>\n",
       "      <td>Mt_Pb</td>\n",
       "      <td>69</td>\n",
       "      <td>single family units</td>\n",
       "      <td>3480</td>\n",
       "      <td>51.75</td>\n",
       "      <td>2</td>\n",
       "      <td>1</td>\n",
       "      <td>0</td>\n",
       "      <td>2</td>\n",
       "      <td>3</td>\n",
       "      <td>2</td>\n",
       "    </tr>\n",
       "  </tbody>\n",
       "</table>\n",
       "</div>"
      ],
      "text/plain": [
       "   ID        Date          Zone       Lat       Long       Meter Number  \\\n",
       "0   6    7/7/2015  Lower Kayole  0.745297  36.461339  WT11-6''-06-12840   \n",
       "1   1  15/07/2015     park view  0.744511  36.462356     WT-4''-96-4997   \n",
       "2   4  16/07/2015  Upper Kayole  0.748353  36.466414    WT11-06''-12842   \n",
       "3   6  23/07/2015  Lower Kayole  0.745297  36.461339  WT11-6''-06-12840   \n",
       "4   1   10/7/2015     park view  0.744511  36.462356     WT-4''-96-4997   \n",
       "\n",
       "  Reason for Over Abstraction  HouseHolds  \\\n",
       "0                  Other_Acts         179   \n",
       "1                       Mt_Pb          69   \n",
       "2                        LK_2         169   \n",
       "3                       Mt_Pb         179   \n",
       "4                       Mt_Pb          69   \n",
       "\n",
       "                                     Type of Housing  Main Pipe Length  \\\n",
       "0                               single units rentals              1604   \n",
       "1                                single family units              3480   \n",
       "2  mixed rental storied (2 bedroomed plus) and fa...              1750   \n",
       "3                               single units rentals              1604   \n",
       "4                                single family units              3480   \n",
       "\n",
       "   Daily Abstraction Avg  Water Kiosks  Car Wash and Hotels  Schools  \\\n",
       "0                 134.25             2                    0        1   \n",
       "1                  51.75             2                    1        0   \n",
       "2                 126.75             0                    0        0   \n",
       "3                 134.25             2                    0        1   \n",
       "4                  51.75             2                    1        0   \n",
       "\n",
       "   Churches  Farming  Over Abstraction  \n",
       "0         2        1                 4  \n",
       "1         2        3                 2  \n",
       "2         0        3                 4  \n",
       "3         2        1                 2  \n",
       "4         2        3                 2  "
      ]
     },
     "execution_count": 4,
     "metadata": {},
     "output_type": "execute_result"
    }
   ],
   "source": [
    "raw_csv_data.head() ## eye-balling the raw data"
   ]
  },
  {
   "cell_type": "code",
   "execution_count": 5,
   "metadata": {},
   "outputs": [],
   "source": [
    "df = raw_csv_data.copy() ##making a copy of data to work with to avoid changing the raw data"
   ]
  },
  {
   "cell_type": "code",
   "execution_count": 6,
   "metadata": {},
   "outputs": [],
   "source": [
    "df = df.drop(['ID', 'Lat','Long','Meter Number', 'Zone'], axis=1) ##dropping columns not needed for the analysis"
   ]
  },
  {
   "cell_type": "markdown",
   "metadata": {},
   "source": [
    "# Dealing with the Categorical  Variables/ Columns"
   ]
  },
  {
   "cell_type": "markdown",
   "metadata": {},
   "source": [
    "# Reasons for over abstraction"
   ]
  },
  {
   "cell_type": "code",
   "execution_count": 7,
   "metadata": {},
   "outputs": [
    {
     "data": {
      "text/plain": [
       "array(['Other_Acts', 'Mt_Pb', 'LK_2', 'New_Cons', 'Htl_Inds', 'LK_1',\n",
       "       'LK_3', 'Rare_Acts', 'Insts', 'Illegal_Abs', '0'], dtype=object)"
      ]
     },
     "execution_count": 7,
     "metadata": {},
     "output_type": "execute_result"
    }
   ],
   "source": [
    "df['Reason for Over Abstraction'].unique()"
   ]
  },
  {
   "cell_type": "markdown",
   "metadata": {},
   "source": [
    "getting dummies for the reasons column"
   ]
  },
  {
   "cell_type": "code",
   "execution_count": 8,
   "metadata": {},
   "outputs": [],
   "source": [
    "reason_columns = pd.get_dummies(df['Reason for Over Abstraction'], drop_first=True)"
   ]
  },
  {
   "cell_type": "code",
   "execution_count": 9,
   "metadata": {},
   "outputs": [],
   "source": [
    "reason_columns['check'] = reason_columns.sum(axis = 1) ## creating a column to check the values in the reason_columns"
   ]
  },
  {
   "cell_type": "code",
   "execution_count": 10,
   "metadata": {},
   "outputs": [
    {
     "data": {
      "text/plain": [
       "array([1, 0], dtype=int64)"
      ]
     },
     "execution_count": 10,
     "metadata": {},
     "output_type": "execute_result"
    }
   ],
   "source": [
    "reason_columns['check'].unique()"
   ]
  },
  {
   "cell_type": "code",
   "execution_count": 11,
   "metadata": {},
   "outputs": [],
   "source": [
    "reason_columns = reason_columns.drop(['check'], axis = 1) ## dropping the created column"
   ]
  },
  {
   "cell_type": "markdown",
   "metadata": {},
   "source": [
    "Classification of over abstraction reasons "
   ]
  },
  {
   "cell_type": "code",
   "execution_count": 12,
   "metadata": {},
   "outputs": [],
   "source": [
    "##Mapping different types of over abstraction to the decided classes\n",
    "Leakage = reason_columns.loc[:,'LK_1':'LK_3'].max(axis=1)\n",
    "Over_Demand = reason_columns.loc[:,'Htl_Inds':'Insts'].max(axis=1)\n",
    "Unique_Reasons = reason_columns.loc[:,'Mt_Pb':'Rare_Acts'].max(axis=1)"
   ]
  },
  {
   "cell_type": "code",
   "execution_count": 13,
   "metadata": {},
   "outputs": [],
   "source": [
    "df=pd.concat([df,Leakage,Over_Demand,Unique_Reasons], axis=1) ##concatenating the classified reasons to the dataframe"
   ]
  },
  {
   "cell_type": "code",
   "execution_count": 14,
   "metadata": {},
   "outputs": [],
   "source": [
    "df = df.drop(['Reason for Over Abstraction'], axis=1) ##Dropping the \"Reason for Over Abstraction\" column"
   ]
  },
  {
   "cell_type": "code",
   "execution_count": 15,
   "metadata": {},
   "outputs": [
    {
     "data": {
      "text/plain": [
       "array(['Date', 'HouseHolds', 'Type of Housing', 'Main Pipe Length',\n",
       "       'Daily Abstraction Avg', 'Water Kiosks', 'Car Wash and Hotels',\n",
       "       'Schools', 'Churches', 'Farming', 'Over Abstraction', 0, 1, 2],\n",
       "      dtype=object)"
      ]
     },
     "execution_count": 15,
     "metadata": {},
     "output_type": "execute_result"
    }
   ],
   "source": [
    "df.columns.values ##confirming the new column values of the dataframe"
   ]
  },
  {
   "cell_type": "code",
   "execution_count": 16,
   "metadata": {},
   "outputs": [],
   "source": [
    "##creating a list of names to update the classified reasons for over abstraction column names \n",
    "column_names = ['Date', 'HouseHolds', 'Type of Housing', 'Main Pipe Length',\n",
    "       'Daily Abstraction Avg','Water Kiosks',\n",
    "       'Car Wash and Hotels', 'Schools', 'Churches', 'light irrigation',\n",
    "       'Over Abstraction', 'Leakage','Over_Demand','Unique_Reasons'] "
   ]
  },
  {
   "cell_type": "code",
   "execution_count": 17,
   "metadata": {},
   "outputs": [],
   "source": [
    "df.columns=column_names"
   ]
  },
  {
   "cell_type": "markdown",
   "metadata": {},
   "source": [
    "Obtaining Dummies for the \"type of housing\" column"
   ]
  },
  {
   "cell_type": "code",
   "execution_count": 18,
   "metadata": {},
   "outputs": [],
   "source": [
    "Housing_Types_columns = pd.get_dummies(df['Type of Housing']) ##dummy variables for the housing types\n"
   ]
  },
  {
   "cell_type": "code",
   "execution_count": 19,
   "metadata": {},
   "outputs": [],
   "source": [
    "##Re-ordering housing types for easier classification using the loc method\n",
    "columns_re_ordered = ['single family units','mixed family and single rentals',\n",
    "                      'mixed rentals and homes','mixed rental storied (2 bedroomed plus) and family units',\n",
    "                      'one bedroomed plus','rentals storied (2 bedroomed plus)',\n",
    "                      'Single Units rentals','single units rentals']"
   ]
  },
  {
   "cell_type": "code",
   "execution_count": 20,
   "metadata": {},
   "outputs": [],
   "source": [
    "Housing_Types_columns = Housing_Types_columns[columns_re_ordered]"
   ]
  },
  {
   "cell_type": "code",
   "execution_count": 21,
   "metadata": {},
   "outputs": [],
   "source": [
    "##classifying housing types to three levels of population \"lowpop, midpop, and overpop\"\n",
    "OverPop = Housing_Types_columns.loc[:,'one bedroomed plus':'single units rentals'].max(axis=1)\n",
    "MidPop = Housing_Types_columns.loc[:,'mixed family and single rentals':'mixed rental storied (2 bedroomed plus) and family units'].max(axis=1)\n",
    "LowPop = Housing_Types_columns.loc[:,'single family units']"
   ]
  },
  {
   "cell_type": "code",
   "execution_count": 22,
   "metadata": {},
   "outputs": [],
   "source": [
    "df=pd.concat([df,OverPop,MidPop,LowPop], axis=1) ##concatenating the newly obtained population classes to the df"
   ]
  },
  {
   "cell_type": "code",
   "execution_count": 23,
   "metadata": {},
   "outputs": [],
   "source": [
    "## renaming the population classes columns and assigning this to the df \n",
    "columns_names_2 = ['Date', 'HouseHolds', 'Type of Housing', 'Main Pipe Length',\n",
    "       'Daily Abstraction Avg', 'Water Kiosks',\n",
    "       'Car Wash and Hotels', 'Schools', 'Churches', 'Farming',\n",
    "       'Over Abstraction', 'Leakage', 'Over_Demand', 'Unique_Reasons', 'OverPop' ,\n",
    "       'MidPop', 'LowPop']"
   ]
  },
  {
   "cell_type": "code",
   "execution_count": 24,
   "metadata": {},
   "outputs": [],
   "source": [
    "df.columns=columns_names_2"
   ]
  },
  {
   "cell_type": "code",
   "execution_count": 25,
   "metadata": {},
   "outputs": [],
   "source": [
    "df = df.drop(['Type of Housing'], axis=1) ##dropping the \"Type of housing column as it is now represented in the new classes\""
   ]
  },
  {
   "cell_type": "code",
   "execution_count": 26,
   "metadata": {},
   "outputs": [],
   "source": [
    "## reordering the column names so the reasons for over-abstractions can be at the start of the df \n",
    "column_names_reodered = ['Leakage',\n",
    "       'Over_Demand', 'Unique_Reasons','Date', 'HouseHolds', 'Main Pipe Length', 'Daily Abstraction Avg',\n",
    "       'Water Kiosks', 'Car Wash and Hotels', 'Schools',\n",
    "       'Churches', 'Farming', 'Over Abstraction', 'OverPop', 'MidPop', 'LowPop']"
   ]
  },
  {
   "cell_type": "code",
   "execution_count": 27,
   "metadata": {},
   "outputs": [],
   "source": [
    "df = df[column_names_reodered]\n",
    "#df.head()"
   ]
  },
  {
   "cell_type": "code",
   "execution_count": 28,
   "metadata": {},
   "outputs": [],
   "source": [
    "## checking the columns \"Schools\", 'Churches', 'Water Kiosks' to determine if they need any pre-processing"
   ]
  },
  {
   "cell_type": "code",
   "execution_count": 29,
   "metadata": {},
   "outputs": [
    {
     "data": {
      "text/plain": [
       "array([1, 0], dtype=int64)"
      ]
     },
     "execution_count": 29,
     "metadata": {},
     "output_type": "execute_result"
    }
   ],
   "source": [
    "df['Schools'].unique()"
   ]
  },
  {
   "cell_type": "code",
   "execution_count": 30,
   "metadata": {},
   "outputs": [
    {
     "data": {
      "text/plain": [
       "array([2, 0, 3, 5, 1], dtype=int64)"
      ]
     },
     "execution_count": 30,
     "metadata": {},
     "output_type": "execute_result"
    }
   ],
   "source": [
    "df['Churches'].unique()"
   ]
  },
  {
   "cell_type": "code",
   "execution_count": 31,
   "metadata": {},
   "outputs": [
    {
     "data": {
      "text/plain": [
       "array([2, 0, 1], dtype=int64)"
      ]
     },
     "execution_count": 31,
     "metadata": {},
     "output_type": "execute_result"
    }
   ],
   "source": [
    "df['Water Kiosks'].unique() ## important for analysis as indicates water usage by unconnected homes and water trucks"
   ]
  },
  {
   "cell_type": "code",
   "execution_count": 32,
   "metadata": {},
   "outputs": [
    {
     "data": {
      "text/plain": [
       "4    246\n",
       "1    196\n",
       "3    126\n",
       "2     73\n",
       "Name: Farming, dtype: int64"
      ]
     },
     "execution_count": 32,
     "metadata": {},
     "output_type": "execute_result"
    }
   ],
   "source": [
    "df['Farming'].value_counts() #analysing the \"Farming column\""
   ]
  },
  {
   "cell_type": "code",
   "execution_count": 33,
   "metadata": {},
   "outputs": [],
   "source": [
    "## The farming column data is categorical, with farming types classified into 3 levels based on water use\n",
    "##level 1,2,3 (\"poultry,pigs and goats\", \"kitchen gardening\", \"Dairy Cows\", respectively); use is negligible, \n",
    "##but 4 (light irrigation) is significant."
   ]
  },
  {
   "cell_type": "code",
   "execution_count": 34,
   "metadata": {},
   "outputs": [],
   "source": [
    "## classifying the column into \"Significant impact = 1\" and \"Less impact = 0\" using dictionary\n",
    "df['Farming'] = df['Farming'].map({1:0, 2:0, 3:0, 4:1})"
   ]
  },
  {
   "cell_type": "code",
   "execution_count": 35,
   "metadata": {},
   "outputs": [
    {
     "data": {
      "text/plain": [
       "0    395\n",
       "1    246\n",
       "Name: Farming, dtype: int64"
      ]
     },
     "execution_count": 35,
     "metadata": {},
     "output_type": "execute_result"
    }
   ],
   "source": [
    "df['Farming'].value_counts() ##confirming the classification of the column"
   ]
  },
  {
   "cell_type": "markdown",
   "metadata": {},
   "source": [
    "# Date Column"
   ]
  },
  {
   "cell_type": "code",
   "execution_count": 36,
   "metadata": {},
   "outputs": [],
   "source": [
    "## Note: it is important to assess on if the over abstractions \n",
    "#can be associated to certain months and also certain days of the week.\n",
    "##Thus spliting the date information to obtain months values and days of the week"
   ]
  },
  {
   "cell_type": "code",
   "execution_count": 37,
   "metadata": {},
   "outputs": [
    {
     "data": {
      "text/plain": [
       "str"
      ]
     },
     "execution_count": 37,
     "metadata": {},
     "output_type": "execute_result"
    }
   ],
   "source": [
    "type(df['Date'][0]) # Date is in string data type, thus need to change to time stamp"
   ]
  },
  {
   "cell_type": "code",
   "execution_count": 38,
   "metadata": {},
   "outputs": [
    {
     "data": {
      "text/plain": [
       "0     2015-07-07\n",
       "1     2015-07-15\n",
       "2     2015-07-16\n",
       "3     2015-07-23\n",
       "4     2015-07-10\n",
       "         ...    \n",
       "636   2018-05-23\n",
       "637   2018-05-23\n",
       "638   2018-05-24\n",
       "639   2018-05-24\n",
       "640   2018-05-31\n",
       "Name: Date, Length: 641, dtype: datetime64[ns]"
      ]
     },
     "execution_count": 38,
     "metadata": {},
     "output_type": "execute_result"
    }
   ],
   "source": [
    "df['Date'] =pd.to_datetime(df['Date'],format = '%d/%m/%Y') #changing to Pandas timestamps\n",
    "df['Date']"
   ]
  },
  {
   "cell_type": "code",
   "execution_count": 39,
   "metadata": {},
   "outputs": [
    {
     "data": {
      "text/plain": [
       "pandas._libs.tslibs.timestamps.Timestamp"
      ]
     },
     "execution_count": 39,
     "metadata": {},
     "output_type": "execute_result"
    }
   ],
   "source": [
    "type(df['Date'][0]) ##confirming date data type conversion"
   ]
  },
  {
   "cell_type": "code",
   "execution_count": 40,
   "metadata": {},
   "outputs": [
    {
     "data": {
      "text/plain": [
       "7"
      ]
     },
     "execution_count": 40,
     "metadata": {},
     "output_type": "execute_result"
    }
   ],
   "source": [
    "df['Date'][0].month #checking the month information"
   ]
  },
  {
   "cell_type": "code",
   "execution_count": 41,
   "metadata": {},
   "outputs": [],
   "source": [
    "list_months = [] ##creating an empty list to hold the month values"
   ]
  },
  {
   "cell_type": "code",
   "execution_count": 42,
   "metadata": {},
   "outputs": [],
   "source": [
    "#iterating throught the data frame for the date column to obtaing the month values and appending them to the list\n",
    "for i in range(df.shape[0]):\n",
    "    list_months.append(df['Date'][i].month)"
   ]
  },
  {
   "cell_type": "code",
   "execution_count": 43,
   "metadata": {},
   "outputs": [],
   "source": [
    "df['Month Value'] = list_months #inserting the Month Value information to the df"
   ]
  },
  {
   "cell_type": "code",
   "execution_count": 44,
   "metadata": {},
   "outputs": [],
   "source": [
    "# function to obtain the day of the week, using the \"date_value.weekday\"\n",
    "def date_to_weekday(date_value):\n",
    "    return date_value.weekday()"
   ]
  },
  {
   "cell_type": "code",
   "execution_count": 45,
   "metadata": {},
   "outputs": [],
   "source": [
    "df['Day of the Week'] = df['Date'].apply(date_to_weekday) #calling the function and applying it to the df"
   ]
  },
  {
   "cell_type": "code",
   "execution_count": 46,
   "metadata": {},
   "outputs": [],
   "source": [
    "df = df.drop(['Date'], axis=1) #droping the \"Date columns\": the important information for analysis\n",
    "                                # is now contained in the \"Month value\" and \"Day of the week\" columns"
   ]
  },
  {
   "cell_type": "code",
   "execution_count": 47,
   "metadata": {},
   "outputs": [
    {
     "data": {
      "text/html": [
       "<div>\n",
       "<style scoped>\n",
       "    .dataframe tbody tr th:only-of-type {\n",
       "        vertical-align: middle;\n",
       "    }\n",
       "\n",
       "    .dataframe tbody tr th {\n",
       "        vertical-align: top;\n",
       "    }\n",
       "\n",
       "    .dataframe thead th {\n",
       "        text-align: right;\n",
       "    }\n",
       "</style>\n",
       "<table border=\"1\" class=\"dataframe\">\n",
       "  <thead>\n",
       "    <tr style=\"text-align: right;\">\n",
       "      <th></th>\n",
       "      <th>Leakage</th>\n",
       "      <th>Over_Demand</th>\n",
       "      <th>Unique_Reasons</th>\n",
       "      <th>HouseHolds</th>\n",
       "      <th>Main Pipe Length</th>\n",
       "      <th>Daily Abstraction Avg</th>\n",
       "      <th>Water Kiosks</th>\n",
       "      <th>Car Wash and Hotels</th>\n",
       "      <th>Schools</th>\n",
       "      <th>Churches</th>\n",
       "      <th>Farming</th>\n",
       "      <th>Over Abstraction</th>\n",
       "      <th>OverPop</th>\n",
       "      <th>MidPop</th>\n",
       "      <th>LowPop</th>\n",
       "      <th>Month Value</th>\n",
       "      <th>Day of the Week</th>\n",
       "    </tr>\n",
       "  </thead>\n",
       "  <tbody>\n",
       "    <tr>\n",
       "      <th>0</th>\n",
       "      <td>0</td>\n",
       "      <td>0</td>\n",
       "      <td>1</td>\n",
       "      <td>179</td>\n",
       "      <td>1604</td>\n",
       "      <td>134.25</td>\n",
       "      <td>2</td>\n",
       "      <td>0</td>\n",
       "      <td>1</td>\n",
       "      <td>2</td>\n",
       "      <td>0</td>\n",
       "      <td>4</td>\n",
       "      <td>1</td>\n",
       "      <td>0</td>\n",
       "      <td>0</td>\n",
       "      <td>7</td>\n",
       "      <td>1</td>\n",
       "    </tr>\n",
       "    <tr>\n",
       "      <th>1</th>\n",
       "      <td>0</td>\n",
       "      <td>0</td>\n",
       "      <td>1</td>\n",
       "      <td>69</td>\n",
       "      <td>3480</td>\n",
       "      <td>51.75</td>\n",
       "      <td>2</td>\n",
       "      <td>1</td>\n",
       "      <td>0</td>\n",
       "      <td>2</td>\n",
       "      <td>0</td>\n",
       "      <td>2</td>\n",
       "      <td>0</td>\n",
       "      <td>0</td>\n",
       "      <td>1</td>\n",
       "      <td>7</td>\n",
       "      <td>2</td>\n",
       "    </tr>\n",
       "    <tr>\n",
       "      <th>2</th>\n",
       "      <td>1</td>\n",
       "      <td>0</td>\n",
       "      <td>0</td>\n",
       "      <td>169</td>\n",
       "      <td>1750</td>\n",
       "      <td>126.75</td>\n",
       "      <td>0</td>\n",
       "      <td>0</td>\n",
       "      <td>0</td>\n",
       "      <td>0</td>\n",
       "      <td>0</td>\n",
       "      <td>4</td>\n",
       "      <td>0</td>\n",
       "      <td>1</td>\n",
       "      <td>0</td>\n",
       "      <td>7</td>\n",
       "      <td>3</td>\n",
       "    </tr>\n",
       "    <tr>\n",
       "      <th>3</th>\n",
       "      <td>0</td>\n",
       "      <td>0</td>\n",
       "      <td>1</td>\n",
       "      <td>179</td>\n",
       "      <td>1604</td>\n",
       "      <td>134.25</td>\n",
       "      <td>2</td>\n",
       "      <td>0</td>\n",
       "      <td>1</td>\n",
       "      <td>2</td>\n",
       "      <td>0</td>\n",
       "      <td>2</td>\n",
       "      <td>1</td>\n",
       "      <td>0</td>\n",
       "      <td>0</td>\n",
       "      <td>7</td>\n",
       "      <td>3</td>\n",
       "    </tr>\n",
       "    <tr>\n",
       "      <th>4</th>\n",
       "      <td>0</td>\n",
       "      <td>0</td>\n",
       "      <td>1</td>\n",
       "      <td>69</td>\n",
       "      <td>3480</td>\n",
       "      <td>51.75</td>\n",
       "      <td>2</td>\n",
       "      <td>1</td>\n",
       "      <td>0</td>\n",
       "      <td>2</td>\n",
       "      <td>0</td>\n",
       "      <td>2</td>\n",
       "      <td>0</td>\n",
       "      <td>0</td>\n",
       "      <td>1</td>\n",
       "      <td>7</td>\n",
       "      <td>4</td>\n",
       "    </tr>\n",
       "  </tbody>\n",
       "</table>\n",
       "</div>"
      ],
      "text/plain": [
       "   Leakage  Over_Demand  Unique_Reasons  HouseHolds  Main Pipe Length  \\\n",
       "0        0            0               1         179              1604   \n",
       "1        0            0               1          69              3480   \n",
       "2        1            0               0         169              1750   \n",
       "3        0            0               1         179              1604   \n",
       "4        0            0               1          69              3480   \n",
       "\n",
       "   Daily Abstraction Avg  Water Kiosks  Car Wash and Hotels  Schools  \\\n",
       "0                 134.25             2                    0        1   \n",
       "1                  51.75             2                    1        0   \n",
       "2                 126.75             0                    0        0   \n",
       "3                 134.25             2                    0        1   \n",
       "4                  51.75             2                    1        0   \n",
       "\n",
       "   Churches  Farming  Over Abstraction  OverPop  MidPop  LowPop  Month Value  \\\n",
       "0         2        0                 4        1       0       0            7   \n",
       "1         2        0                 2        0       0       1            7   \n",
       "2         0        0                 4        0       1       0            7   \n",
       "3         2        0                 2        1       0       0            7   \n",
       "4         2        0                 2        0       0       1            7   \n",
       "\n",
       "   Day of the Week  \n",
       "0                1  \n",
       "1                2  \n",
       "2                3  \n",
       "3                3  \n",
       "4                4  "
      ]
     },
     "execution_count": 47,
     "metadata": {},
     "output_type": "execute_result"
    }
   ],
   "source": [
    "df.head() #confirming the date columns operations"
   ]
  },
  {
   "cell_type": "code",
   "execution_count": 61,
   "metadata": {},
   "outputs": [
    {
     "data": {
      "text/plain": [
       "array(['Leakage', 'Over_Demand', 'Unique_Reasons', 'Month Value',\n",
       "       'Day of the Week', 'HouseHolds', 'Main Pipe Length',\n",
       "       'Daily Abstraction Avg', 'Water Kiosks', 'Car Wash and Hotels',\n",
       "       'Schools', 'Churches', 'Farming', 'Over Abstraction', 'OverPop',\n",
       "       'MidPop', 'LowPop'], dtype=object)"
      ]
     },
     "execution_count": 61,
     "metadata": {},
     "output_type": "execute_result"
    }
   ],
   "source": [
    "df.columns.values #obtaining columns values for reordering for the date information to be at the start of the df"
   ]
  },
  {
   "cell_type": "code",
   "execution_count": 62,
   "metadata": {},
   "outputs": [],
   "source": [
    "#Actual reordering of the columns\n",
    "columns_date_reordered = ['Leakage', 'Over_Demand', 'Unique_Reasons', 'Month Value',\n",
    "       'Day of the Week', 'HouseHolds',\n",
    "       'Main Pipe Length', 'Daily Abstraction Avg', 'Water Kiosks',\n",
    "       'Car Wash and Hotels', 'Schools', 'Churches', 'Farming',\n",
    "       'Over Abstraction', 'OverPop', 'MidPop', 'LowPop']"
   ]
  },
  {
   "cell_type": "code",
   "execution_count": 63,
   "metadata": {},
   "outputs": [],
   "source": [
    "df = df[columns_date_reordered] #effecting the reordering to the df"
   ]
  },
  {
   "cell_type": "markdown",
   "metadata": {},
   "source": [
    "# Check Point Preprocessed data "
   ]
  },
  {
   "cell_type": "code",
   "execution_count": 64,
   "metadata": {},
   "outputs": [],
   "source": [
    "data_preprocessed = df.copy() "
   ]
  },
  {
   "cell_type": "code",
   "execution_count": 65,
   "metadata": {},
   "outputs": [],
   "source": [
    "#activate this code to output the pre-processed data\n",
    "#data_preprocessed.to_csv('Water_abstraction_Preprocessed.csv', index=False)"
   ]
  },
  {
   "cell_type": "markdown",
   "metadata": {},
   "source": [
    "# Creating the Model for predicting over abstraction of water"
   ]
  },
  {
   "cell_type": "markdown",
   "metadata": {},
   "source": [
    "# Create the targets : \"Moderate use\" and \"Excess use\""
   ]
  },
  {
   "cell_type": "code",
   "execution_count": 66,
   "metadata": {},
   "outputs": [
    {
     "data": {
      "text/plain": [
       "3.0"
      ]
     },
     "execution_count": 66,
     "metadata": {},
     "output_type": "execute_result"
    }
   ],
   "source": [
    "data_preprocessed['Over Abstraction'].median() #below median= \"Moderate use\", above = \"Over use\""
   ]
  },
  {
   "cell_type": "code",
   "execution_count": 67,
   "metadata": {},
   "outputs": [],
   "source": [
    "targets = np.where(data_preprocessed['Over Abstraction']>\n",
    "                   data_preprocessed['Over Abstraction'].median(),1,0)"
   ]
  },
  {
   "cell_type": "code",
   "execution_count": 68,
   "metadata": {},
   "outputs": [],
   "source": [
    "# create a Series in the original data frame that will contain the targets for the regression\n",
    "data_preprocessed['Excess Usage'] = targets"
   ]
  },
  {
   "cell_type": "code",
   "execution_count": 69,
   "metadata": {},
   "outputs": [
    {
     "data": {
      "text/html": [
       "<div>\n",
       "<style scoped>\n",
       "    .dataframe tbody tr th:only-of-type {\n",
       "        vertical-align: middle;\n",
       "    }\n",
       "\n",
       "    .dataframe tbody tr th {\n",
       "        vertical-align: top;\n",
       "    }\n",
       "\n",
       "    .dataframe thead th {\n",
       "        text-align: right;\n",
       "    }\n",
       "</style>\n",
       "<table border=\"1\" class=\"dataframe\">\n",
       "  <thead>\n",
       "    <tr style=\"text-align: right;\">\n",
       "      <th></th>\n",
       "      <th>Leakage</th>\n",
       "      <th>Over_Demand</th>\n",
       "      <th>Unique_Reasons</th>\n",
       "      <th>Month Value</th>\n",
       "      <th>Day of the Week</th>\n",
       "      <th>HouseHolds</th>\n",
       "      <th>Main Pipe Length</th>\n",
       "      <th>Daily Abstraction Avg</th>\n",
       "      <th>Water Kiosks</th>\n",
       "      <th>Car Wash and Hotels</th>\n",
       "      <th>Schools</th>\n",
       "      <th>Churches</th>\n",
       "      <th>Farming</th>\n",
       "      <th>Over Abstraction</th>\n",
       "      <th>OverPop</th>\n",
       "      <th>MidPop</th>\n",
       "      <th>LowPop</th>\n",
       "      <th>Excess Usage</th>\n",
       "    </tr>\n",
       "  </thead>\n",
       "  <tbody>\n",
       "    <tr>\n",
       "      <th>0</th>\n",
       "      <td>0</td>\n",
       "      <td>0</td>\n",
       "      <td>1</td>\n",
       "      <td>7</td>\n",
       "      <td>1</td>\n",
       "      <td>179</td>\n",
       "      <td>1604</td>\n",
       "      <td>134.25</td>\n",
       "      <td>2</td>\n",
       "      <td>0</td>\n",
       "      <td>1</td>\n",
       "      <td>2</td>\n",
       "      <td>0</td>\n",
       "      <td>4</td>\n",
       "      <td>1</td>\n",
       "      <td>0</td>\n",
       "      <td>0</td>\n",
       "      <td>1</td>\n",
       "    </tr>\n",
       "    <tr>\n",
       "      <th>1</th>\n",
       "      <td>0</td>\n",
       "      <td>0</td>\n",
       "      <td>1</td>\n",
       "      <td>7</td>\n",
       "      <td>2</td>\n",
       "      <td>69</td>\n",
       "      <td>3480</td>\n",
       "      <td>51.75</td>\n",
       "      <td>2</td>\n",
       "      <td>1</td>\n",
       "      <td>0</td>\n",
       "      <td>2</td>\n",
       "      <td>0</td>\n",
       "      <td>2</td>\n",
       "      <td>0</td>\n",
       "      <td>0</td>\n",
       "      <td>1</td>\n",
       "      <td>0</td>\n",
       "    </tr>\n",
       "    <tr>\n",
       "      <th>2</th>\n",
       "      <td>1</td>\n",
       "      <td>0</td>\n",
       "      <td>0</td>\n",
       "      <td>7</td>\n",
       "      <td>3</td>\n",
       "      <td>169</td>\n",
       "      <td>1750</td>\n",
       "      <td>126.75</td>\n",
       "      <td>0</td>\n",
       "      <td>0</td>\n",
       "      <td>0</td>\n",
       "      <td>0</td>\n",
       "      <td>0</td>\n",
       "      <td>4</td>\n",
       "      <td>0</td>\n",
       "      <td>1</td>\n",
       "      <td>0</td>\n",
       "      <td>1</td>\n",
       "    </tr>\n",
       "    <tr>\n",
       "      <th>3</th>\n",
       "      <td>0</td>\n",
       "      <td>0</td>\n",
       "      <td>1</td>\n",
       "      <td>7</td>\n",
       "      <td>3</td>\n",
       "      <td>179</td>\n",
       "      <td>1604</td>\n",
       "      <td>134.25</td>\n",
       "      <td>2</td>\n",
       "      <td>0</td>\n",
       "      <td>1</td>\n",
       "      <td>2</td>\n",
       "      <td>0</td>\n",
       "      <td>2</td>\n",
       "      <td>1</td>\n",
       "      <td>0</td>\n",
       "      <td>0</td>\n",
       "      <td>0</td>\n",
       "    </tr>\n",
       "    <tr>\n",
       "      <th>4</th>\n",
       "      <td>0</td>\n",
       "      <td>0</td>\n",
       "      <td>1</td>\n",
       "      <td>7</td>\n",
       "      <td>4</td>\n",
       "      <td>69</td>\n",
       "      <td>3480</td>\n",
       "      <td>51.75</td>\n",
       "      <td>2</td>\n",
       "      <td>1</td>\n",
       "      <td>0</td>\n",
       "      <td>2</td>\n",
       "      <td>0</td>\n",
       "      <td>2</td>\n",
       "      <td>0</td>\n",
       "      <td>0</td>\n",
       "      <td>1</td>\n",
       "      <td>0</td>\n",
       "    </tr>\n",
       "  </tbody>\n",
       "</table>\n",
       "</div>"
      ],
      "text/plain": [
       "   Leakage  Over_Demand  Unique_Reasons  Month Value  Day of the Week  \\\n",
       "0        0            0               1            7                1   \n",
       "1        0            0               1            7                2   \n",
       "2        1            0               0            7                3   \n",
       "3        0            0               1            7                3   \n",
       "4        0            0               1            7                4   \n",
       "\n",
       "   HouseHolds  Main Pipe Length  Daily Abstraction Avg  Water Kiosks  \\\n",
       "0         179              1604                 134.25             2   \n",
       "1          69              3480                  51.75             2   \n",
       "2         169              1750                 126.75             0   \n",
       "3         179              1604                 134.25             2   \n",
       "4          69              3480                  51.75             2   \n",
       "\n",
       "   Car Wash and Hotels  Schools  Churches  Farming  Over Abstraction  OverPop  \\\n",
       "0                    0        1         2        0                 4        1   \n",
       "1                    1        0         2        0                 2        0   \n",
       "2                    0        0         0        0                 4        0   \n",
       "3                    0        1         2        0                 2        1   \n",
       "4                    1        0         2        0                 2        0   \n",
       "\n",
       "   MidPop  LowPop  Excess Usage  \n",
       "0       0       0             1  \n",
       "1       0       1             0  \n",
       "2       1       0             1  \n",
       "3       0       0             0  \n",
       "4       0       1             0  "
      ]
     },
     "execution_count": 69,
     "metadata": {},
     "output_type": "execute_result"
    }
   ],
   "source": [
    "data_preprocessed.head() # to see what happened"
   ]
  },
  {
   "cell_type": "code",
   "execution_count": 70,
   "metadata": {},
   "outputs": [
    {
     "data": {
      "text/plain": [
       "0.46021840873634945"
      ]
     },
     "execution_count": 70,
     "metadata": {},
     "output_type": "execute_result"
    }
   ],
   "source": [
    "#check if dataset is balanced (what % of targets are 1s)\n",
    "targets.sum() / targets.shape[0] "
   ]
  },
  {
   "cell_type": "code",
   "execution_count": 71,
   "metadata": {},
   "outputs": [],
   "source": [
    "# create a checkpoint by dropping the unnecessary variables\n",
    "# also drop the variables 'eliminated' after exploring the weights\n",
    "data_with_targets = data_preprocessed.drop(['Over Abstraction','Daily Abstraction Avg','Main Pipe Length','OverPop'], axis = 1) # droping the Over Abstraction clmn"
   ]
  },
  {
   "cell_type": "code",
   "execution_count": 72,
   "metadata": {},
   "outputs": [
    {
     "data": {
      "text/plain": [
       "False"
      ]
     },
     "execution_count": 72,
     "metadata": {},
     "output_type": "execute_result"
    }
   ],
   "source": [
    "data_with_targets is data_preprocessed  ## confirming the created data frame"
   ]
  },
  {
   "cell_type": "markdown",
   "metadata": {},
   "source": [
    "# Selecting the regression inputs"
   ]
  },
  {
   "cell_type": "code",
   "execution_count": 73,
   "metadata": {},
   "outputs": [
    {
     "data": {
      "text/plain": [
       "(641, 14)"
      ]
     },
     "execution_count": 73,
     "metadata": {},
     "output_type": "execute_result"
    }
   ],
   "source": [
    "data_with_targets.shape"
   ]
  },
  {
   "cell_type": "code",
   "execution_count": 74,
   "metadata": {},
   "outputs": [],
   "source": [
    "# Selects all rows and all columns but the last one and put in a variable for inputs\n",
    "unscaled_inputs = data_with_targets.iloc[ :,:-1]"
   ]
  },
  {
   "cell_type": "markdown",
   "metadata": {},
   "source": [
    "# Standardizing the data"
   ]
  },
  {
   "cell_type": "code",
   "execution_count": 75,
   "metadata": {},
   "outputs": [],
   "source": [
    "# since data of different magnitude (scale) can be biased towards high values,\n",
    "# we want all inputs to be of similar magnitude"
   ]
  },
  {
   "cell_type": "markdown",
   "metadata": {},
   "source": [
    "Custom scaler class"
   ]
  },
  {
   "cell_type": "code",
   "execution_count": 76,
   "metadata": {},
   "outputs": [],
   "source": [
    "class CustomScaler(BaseEstimator,TransformerMixin): \n",
    "    \n",
    "    # init or what information we need to declare a CustomScaler object\n",
    "    # and what is calculated/declared as we do\n",
    "    \n",
    "    def __init__(self,columns,copy=True,with_mean=True,with_std=True):\n",
    "        \n",
    "        # scaler is a Standard Scaler object\n",
    "        self.scaler = StandardScaler(copy,with_mean,with_std)\n",
    "        # with some columns 'twist'\n",
    "        self.columns = columns\n",
    "        self.mean_ = None\n",
    "        self.var_ = None\n",
    "        \n",
    "    \n",
    "    # the fit method, based on StandardScale\n",
    "    \n",
    "    def fit(self, X, y=None):\n",
    "        self.scaler.fit(X[self.columns], y)\n",
    "        self.mean_ = np.mean(X[self.columns])\n",
    "        self.var_ = np.var(X[self.columns])\n",
    "        return self\n",
    "    \n",
    "    # the transform method which does the actual scaling\n",
    "\n",
    "    def transform(self, X, y=None, copy=None):\n",
    "        \n",
    "        # record the initial order of the columns\n",
    "        init_col_order = X.columns\n",
    "        \n",
    "        # scale all features chosen when creating the instance of the class\n",
    "        X_scaled = pd.DataFrame(self.scaler.transform(X[self.columns]), columns=self.columns)\n",
    "        \n",
    "        # declare a variable containing all information that was not scaled\n",
    "        X_not_scaled = X.loc[:,~X.columns.isin(self.columns)]\n",
    "        \n",
    "        # return a data frame which contains all scaled features and all 'not scaled' features\n",
    "        # using the original order (recorded in the beginning)\n",
    "        return pd.concat([X_not_scaled, X_scaled], axis=1)[init_col_order]"
   ]
  },
  {
   "cell_type": "code",
   "execution_count": 77,
   "metadata": {},
   "outputs": [
    {
     "data": {
      "text/plain": [
       "array(['Leakage', 'Over_Demand', 'Unique_Reasons', 'Month Value',\n",
       "       'Day of the Week', 'HouseHolds', 'Water Kiosks',\n",
       "       'Car Wash and Hotels', 'Schools', 'Churches', 'Farming', 'MidPop',\n",
       "       'LowPop'], dtype=object)"
      ]
     },
     "execution_count": 77,
     "metadata": {},
     "output_type": "execute_result"
    }
   ],
   "source": [
    "# check what are all columns that we've got\n",
    "unscaled_inputs.columns.values"
   ]
  },
  {
   "cell_type": "code",
   "execution_count": null,
   "metadata": {},
   "outputs": [],
   "source": [
    "# select the columns to omit\n",
    "columns_to_omit = ['Leakage', 'Over_Demand', 'Unique_Reasons''Farming', 'MidPop',\n",
    "       'LowPop', 'OverPop']"
   ]
  },
  {
   "cell_type": "code",
   "execution_count": null,
   "metadata": {},
   "outputs": [],
   "source": [
    "# creating the columns to scale, based on the columns to omit\n",
    "# using list comprehension to iterate over the list\n",
    "columns_to_scale = [x for x in unscaled_inputs.columns.values if x not in columns_to_omit]"
   ]
  },
  {
   "cell_type": "code",
   "execution_count": null,
   "metadata": {},
   "outputs": [],
   "source": [
    "#creating a scale as an object specifying the columns to be scaled\n",
    "over_demand_scaler = CustomScaler(columns_to_scale)"
   ]
  },
  {
   "cell_type": "code",
   "execution_count": null,
   "metadata": {},
   "outputs": [],
   "source": [
    "over_demand_scaler.fit(unscaled_inputs) #calculating and storing standardization info\n",
    "                                            #(mean and std)"
   ]
  },
  {
   "cell_type": "code",
   "execution_count": null,
   "metadata": {},
   "outputs": [],
   "source": [
    "scaled_inputs = over_demand_scaler.transform(unscaled_inputs) #actual standardization (transforming)"
   ]
  },
  {
   "cell_type": "markdown",
   "metadata": {},
   "source": [
    "# Data split and shuffling (train and test)"
   ]
  },
  {
   "cell_type": "code",
   "execution_count": null,
   "metadata": {},
   "outputs": [],
   "source": [
    "# declare 4 variables for the split\n",
    "x_train, x_test, y_train, y_test = train_test_split(scaled_inputs, targets, train_size = 0.8, random_state = 20)"
   ]
  },
  {
   "cell_type": "code",
   "execution_count": null,
   "metadata": {},
   "outputs": [],
   "source": [
    "# check the shape of the train inputs and targets\n",
    "print(x_train.shape, y_train.shape)"
   ]
  },
  {
   "cell_type": "code",
   "execution_count": null,
   "metadata": {},
   "outputs": [],
   "source": [
    "# check the shape of the test inputs and targets\n",
    "print(x_test.shape, y_test.shape)"
   ]
  },
  {
   "cell_type": "markdown",
   "metadata": {},
   "source": [
    "# Model Training"
   ]
  },
  {
   "cell_type": "markdown",
   "metadata": {},
   "source": [
    "Use made of the Logistic regression with sklearn"
   ]
  },
  {
   "cell_type": "code",
   "execution_count": null,
   "metadata": {},
   "outputs": [],
   "source": [
    "# create a logistic regression object\n",
    "reg = LogisticRegression()"
   ]
  },
  {
   "cell_type": "code",
   "execution_count": null,
   "metadata": {},
   "outputs": [],
   "source": [
    "# fit our train inputs i.e the training part of the machine learning\n",
    "reg.fit(x_train,y_train)"
   ]
  },
  {
   "cell_type": "code",
   "execution_count": null,
   "metadata": {},
   "outputs": [],
   "source": [
    "# assess the train accuracy of the model\n",
    "reg.score(x_train,y_train)"
   ]
  },
  {
   "cell_type": "markdown",
   "metadata": {},
   "source": [
    "# Finding the Intercept and coefficients"
   ]
  },
  {
   "cell_type": "code",
   "execution_count": null,
   "metadata": {},
   "outputs": [],
   "source": [
    "# get the intercept (bias) of the model\n",
    "reg.intercept_"
   ]
  },
  {
   "cell_type": "code",
   "execution_count": null,
   "metadata": {},
   "outputs": [],
   "source": [
    "# get the coefficients (weights) of the model\n",
    "reg.coef_"
   ]
  },
  {
   "cell_type": "code",
   "execution_count": null,
   "metadata": {},
   "outputs": [],
   "source": [
    "# saving the columns names in an ad-hoc variable\n",
    "feature_name = unscaled_inputs.columns.values # to restore features lost in SkLearn operation "
   ]
  },
  {
   "cell_type": "code",
   "execution_count": null,
   "metadata": {},
   "outputs": [],
   "source": [
    "# add the coefficient values to the summary table\n",
    "summary_table = pd.DataFrame(columns=['Feature name'], data = feature_name)\n",
    "summary_table['Coefficient'] = Fsk(reg.coef_)\n",
    "# display the summary table\n",
    "summary_table"
   ]
  },
  {
   "cell_type": "markdown",
   "metadata": {},
   "source": [
    "To add the intercept to the summary table"
   ]
  },
  {
   "cell_type": "code",
   "execution_count": null,
   "metadata": {},
   "outputs": [],
   "source": [
    "# to move the intercept to the top of the summary table\n",
    "summary_table.index = summary_table.index + 1 #shift up all indices by 1\n",
    "summary_table.loc[0] = ['Intercept', reg.intercept_[0]] #Add the Intercept index\n",
    "summary_table = summary_table.sort_index() #sort the df by index to organize the indices\n",
    "summary_table"
   ]
  },
  {
   "cell_type": "markdown",
   "metadata": {},
   "source": [
    "# Interpreting coefficients"
   ]
  },
  {
   "cell_type": "code",
   "execution_count": null,
   "metadata": {},
   "outputs": [],
   "source": [
    "# create a new Series called: 'Odds ratio' which will show the.. odds ratio of each feature\n",
    "summary_table['Odds_ratio'] = np.exp(summary_table.Coefficient)\n",
    "summary_table"
   ]
  },
  {
   "cell_type": "code",
   "execution_count": null,
   "metadata": {},
   "outputs": [],
   "source": [
    "# sort the table according to odds ratio\n",
    "# NB: by default, the sort_values method sorts values by 'ascending'\n",
    "summary_table.sort_values('Odds_ratio', ascending=False)"
   ]
  },
  {
   "cell_type": "code",
   "execution_count": null,
   "metadata": {},
   "outputs": [],
   "source": [
    "## Note if coefficient is close to zero, or odds ratio close to 1, \n",
    "## the feature is less important"
   ]
  },
  {
   "cell_type": "markdown",
   "metadata": {},
   "source": [
    "# Model Test"
   ]
  },
  {
   "cell_type": "code",
   "execution_count": null,
   "metadata": {},
   "outputs": [],
   "source": [
    "# running the model with the test data to test its performance\n",
    "reg.score(x_test,y_test)"
   ]
  },
  {
   "cell_type": "code",
   "execution_count": null,
   "metadata": {},
   "outputs": [],
   "source": [
    "# obtaining the probabilities of both Moderate and Over abstraction\n",
    "predicted_proba = reg.predict_proba(x_test)\n",
    "predicted_proba"
   ]
  },
  {
   "cell_type": "code",
   "execution_count": null,
   "metadata": {},
   "outputs": [],
   "source": [
    "# Obtaining the predictied probabilies of excess abstraction\n",
    "predicted_proba[ :,1]"
   ]
  },
  {
   "cell_type": "code",
   "execution_count": null,
   "metadata": {},
   "outputs": [],
   "source": []
  },
  {
   "cell_type": "code",
   "execution_count": null,
   "metadata": {},
   "outputs": [],
   "source": []
  },
  {
   "cell_type": "code",
   "execution_count": null,
   "metadata": {},
   "outputs": [],
   "source": []
  },
  {
   "cell_type": "code",
   "execution_count": null,
   "metadata": {},
   "outputs": [],
   "source": []
  },
  {
   "cell_type": "code",
   "execution_count": null,
   "metadata": {},
   "outputs": [],
   "source": []
  },
  {
   "cell_type": "code",
   "execution_count": null,
   "metadata": {},
   "outputs": [],
   "source": []
  }
 ],
 "metadata": {
  "kernelspec": {
   "display_name": "Python 3 (ipykernel)",
   "language": "python",
   "name": "python3"
  },
  "language_info": {
   "codemirror_mode": {
    "name": "ipython",
    "version": 3
   },
   "file_extension": ".py",
   "mimetype": "text/x-python",
   "name": "python",
   "nbconvert_exporter": "python",
   "pygments_lexer": "ipython3",
   "version": "3.9.7"
  }
 },
 "nbformat": 4,
 "nbformat_minor": 2
}
